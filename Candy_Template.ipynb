{
 "cells": [
  {
   "cell_type": "code",
   "execution_count": 7,
   "id": "bfe079da-4591-4a90-9771-59e5b2a22c8e",
   "metadata": {},
   "outputs": [],
   "source": [
    "import pandas as pd\n",
    "import matplotlib.pyplot as plt\n",
    "import scipy.stats as st\n",
    "import numpy as np"
   ]
  },
  {
   "cell_type": "code",
   "execution_count": 8,
   "id": "3edd268b-055c-4a23-899e-e7f16a2c0446",
   "metadata": {},
   "outputs": [],
   "source": [
    "candy_data_csv = \"/users/nickvoltin/Project_1/Resources/Candy_Sales.csv\"\n",
    "candy_sales_df=pd.read_csv(candy_data_csv)\n"
   ]
  },
  {
   "cell_type": "code",
   "execution_count": null,
   "id": "4227d4d7-df07-4832-8198-ff1c20d4234c",
   "metadata": {},
   "outputs": [],
   "source": [
    "# Clean Data"
   ]
  },
  {
   "cell_type": "code",
   "execution_count": null,
   "id": "c2df28d3-a933-4841-a72c-7543a90e5d74",
   "metadata": {},
   "outputs": [],
   "source": [
    "# Visualizations (2 per question = 12)"
   ]
  },
  {
   "cell_type": "code",
   "execution_count": null,
   "id": "822304bf-beac-4773-a684-187ce4da9de5",
   "metadata": {},
   "outputs": [],
   "source": [
    "# Which Season Wins (Jose)"
   ]
  },
  {
   "cell_type": "code",
   "execution_count": 9,
   "id": "097374ff-1568-43eb-9a63-a723e120f50d",
   "metadata": {},
   "outputs": [
    {
     "data": {
      "text/html": [
       "<div>\n",
       "<style scoped>\n",
       "    .dataframe tbody tr th:only-of-type {\n",
       "        vertical-align: middle;\n",
       "    }\n",
       "\n",
       "    .dataframe tbody tr th {\n",
       "        vertical-align: top;\n",
       "    }\n",
       "\n",
       "    .dataframe thead th {\n",
       "        text-align: right;\n",
       "    }\n",
       "</style>\n",
       "<table border=\"1\" class=\"dataframe\">\n",
       "  <thead>\n",
       "    <tr style=\"text-align: right;\">\n",
       "      <th></th>\n",
       "      <th>Division</th>\n",
       "      <th>Year</th>\n",
       "      <th>Total_Sales</th>\n",
       "      <th>Total_Gross_Profit</th>\n",
       "    </tr>\n",
       "  </thead>\n",
       "  <tbody>\n",
       "    <tr>\n",
       "      <th>0</th>\n",
       "      <td>Chocolate</td>\n",
       "      <td>2021</td>\n",
       "      <td>26356.36</td>\n",
       "      <td>17759.68</td>\n",
       "    </tr>\n",
       "    <tr>\n",
       "      <th>1</th>\n",
       "      <td>Chocolate</td>\n",
       "      <td>2022</td>\n",
       "      <td>27763.20</td>\n",
       "      <td>18711.66</td>\n",
       "    </tr>\n",
       "    <tr>\n",
       "      <th>2</th>\n",
       "      <td>Chocolate</td>\n",
       "      <td>2023</td>\n",
       "      <td>34193.38</td>\n",
       "      <td>23090.44</td>\n",
       "    </tr>\n",
       "    <tr>\n",
       "      <th>3</th>\n",
       "      <td>Chocolate</td>\n",
       "      <td>2024</td>\n",
       "      <td>43379.96</td>\n",
       "      <td>29262.84</td>\n",
       "    </tr>\n",
       "    <tr>\n",
       "      <th>4</th>\n",
       "      <td>Other</td>\n",
       "      <td>2021</td>\n",
       "      <td>2549.25</td>\n",
       "      <td>1155.45</td>\n",
       "    </tr>\n",
       "    <tr>\n",
       "      <th>5</th>\n",
       "      <td>Other</td>\n",
       "      <td>2022</td>\n",
       "      <td>1207.75</td>\n",
       "      <td>479.55</td>\n",
       "    </tr>\n",
       "    <tr>\n",
       "      <th>6</th>\n",
       "      <td>Other</td>\n",
       "      <td>2023</td>\n",
       "      <td>2461.75</td>\n",
       "      <td>1103.95</td>\n",
       "    </tr>\n",
       "    <tr>\n",
       "      <th>7</th>\n",
       "      <td>Other</td>\n",
       "      <td>2024</td>\n",
       "      <td>3444.50</td>\n",
       "      <td>1594.50</td>\n",
       "    </tr>\n",
       "    <tr>\n",
       "      <th>8</th>\n",
       "      <td>Sugar</td>\n",
       "      <td>2021</td>\n",
       "      <td>47.94</td>\n",
       "      <td>27.24</td>\n",
       "    </tr>\n",
       "    <tr>\n",
       "      <th>9</th>\n",
       "      <td>Sugar</td>\n",
       "      <td>2022</td>\n",
       "      <td>31.70</td>\n",
       "      <td>17.85</td>\n",
       "    </tr>\n",
       "    <tr>\n",
       "      <th>10</th>\n",
       "      <td>Sugar</td>\n",
       "      <td>2023</td>\n",
       "      <td>204.19</td>\n",
       "      <td>146.19</td>\n",
       "    </tr>\n",
       "    <tr>\n",
       "      <th>11</th>\n",
       "      <td>Sugar</td>\n",
       "      <td>2024</td>\n",
       "      <td>143.65</td>\n",
       "      <td>93.45</td>\n",
       "    </tr>\n",
       "  </tbody>\n",
       "</table>\n",
       "</div>"
      ],
      "text/plain": [
       "     Division  Year  Total_Sales  Total_Gross_Profit\n",
       "0   Chocolate  2021     26356.36            17759.68\n",
       "1   Chocolate  2022     27763.20            18711.66\n",
       "2   Chocolate  2023     34193.38            23090.44\n",
       "3   Chocolate  2024     43379.96            29262.84\n",
       "4       Other  2021      2549.25             1155.45\n",
       "5       Other  2022      1207.75              479.55\n",
       "6       Other  2023      2461.75             1103.95\n",
       "7       Other  2024      3444.50             1594.50\n",
       "8       Sugar  2021        47.94               27.24\n",
       "9       Sugar  2022        31.70               17.85\n",
       "10      Sugar  2023       204.19              146.19\n",
       "11      Sugar  2024       143.65               93.45"
      ]
     },
     "execution_count": 9,
     "metadata": {},
     "output_type": "execute_result"
    }
   ],
   "source": [
    "# Trends over time (Nicholas)\n",
    "candy_sales_df[\"Order Date\"] = pd.to_datetime(candy_sales_df[\"Order Date\"])\n",
    "candy_sales_df[\"Year\"] = candy_sales_df[\"Order Date\"].dt.year\n",
    "division_year_summary = candy_sales_df.groupby([\"Division\", \"Year\"]).agg(\n",
    "    Total_Sales=(\"Sales\", \"sum\"),\n",
    "    Total_Gross_Profit=(\"Gross Profit\", \"sum\")\n",
    ").reset_index()\n",
    "division_year_summary"
   ]
  },
  {
   "cell_type": "code",
   "execution_count": null,
   "id": "5d40d64d-1525-4073-91c4-3d13e475594b",
   "metadata": {},
   "outputs": [],
   "source": [
    "# Which type of candy dominates (Eric)"
   ]
  },
  {
   "cell_type": "code",
   "execution_count": null,
   "id": "0fe68bfe-b002-4455-9956-4f98920b3f99",
   "metadata": {},
   "outputs": [],
   "source": [
    "# Regional Findings (Bianca)\n"
   ]
  },
  {
   "cell_type": "code",
   "execution_count": null,
   "id": "c85ada93-40e1-4c82-805d-600ab91503e2",
   "metadata": {},
   "outputs": [],
   "source": [
    "# Volume Vs. Cost (Aidan)"
   ]
  },
  {
   "cell_type": "code",
   "execution_count": null,
   "id": "cb42e23a-390f-4877-ab17-bb1d12e5683f",
   "metadata": {},
   "outputs": [],
   "source": [
    "# Which Company is most successful (Yvette)"
   ]
  }
 ],
 "metadata": {
  "kernelspec": {
   "display_name": "Python 3 (ipykernel)",
   "language": "python",
   "name": "python3"
  },
  "language_info": {
   "codemirror_mode": {
    "name": "ipython",
    "version": 3
   },
   "file_extension": ".py",
   "mimetype": "text/x-python",
   "name": "python",
   "nbconvert_exporter": "python",
   "pygments_lexer": "ipython3",
   "version": "3.10.14"
  }
 },
 "nbformat": 4,
 "nbformat_minor": 5
}
