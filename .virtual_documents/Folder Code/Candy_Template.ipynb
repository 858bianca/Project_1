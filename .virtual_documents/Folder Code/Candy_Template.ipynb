%pwd


import pandas as pd
import matplotlib.pyplot as plt
import scipy.stats as st
import numpy as np
from pathlib import Path


# Regional Findings (Bianca)
candy_data_csv =Path("../Resources/Candy_Sales.csv")
candy_df= pd.read_csv(candy_data_csv)
candy_df.head()


#list all columns in table
candy_df.columns


#new table using colums Division, State/Province, Units)
state_df= candy_df[["Division","State/Province","Gross Profit"]]
state_df.head()


#groupby for candy units
per_candy_unit = state_df.groupby(["Division","State/Province"])[["Gross Profit"]].sum().reset_index()
#per_candy_unit.loc[per_candy_unit["State/Province"]== "California"]
per_candy_unit.head()


#create visulizaton
#create bar chart for chocolate units
chocolate_df=per_candy_unit.loc[per_candy_unit["Division"]=="Chocolate"]

x_axis= np.arange(len(chocolate_df))
tick_locations=[value+0.4 for value in x_axis]

plt.figure(figsize=(20,4))
plt.bar(x_axis, chocolate_df["Gross Profit"], color="brown", alpha=0.5, align="edge")
plt.xticks(tick_locations, chocolate_df["State/Province"], rotation="vertical")
plt.xlim(-0.25, len(x_axis))
plt.ylim(0, max(chocolate_df["Gross Profit"])+1000)
plt.title("Chocolate Gross Profit Per State")
plt.xlabel("State/Province")
plt.ylabel("Profit")
plt.tight_layout()
plt.savefig("../Images/chocolate_profit.png")
plt.show()


#create bar chart for sugar units
sugar_df=per_candy_unit.loc[per_candy_unit["Division"]=="Sugar"]

x_axis= np.arange(len(sugar_df))
tick_locations=[value+0.4 for value in x_axis]

plt.figure(figsize=(20,4))
plt.bar(x_axis, sugar_df["Gross Profit"], color="pink", alpha=0.5, align="edge")
plt.xticks(tick_locations, sugar_df["State/Province"], rotation="vertical")
plt.xlim(-0.25, len(x_axis))
plt.ylim(0, max(sugar_df["Gross Profit"])+10)
plt.title("Sugar Gross Profit Per State")
plt.xlabel("State/Province")
plt.ylabel("Profit")
plt.tight_layout()
plt.savefig("../Images/sugar_profit.png")
plt.show()


# create bar chart for other candy
other_candy_df=per_candy_unit.loc[per_candy_unit["Division"]=="Other"]

x_axis= np.arange(len(other_candy_df))
tick_locations=[value+0.4 for value in x_axis]

plt.figure(figsize=(20,4))
plt.bar(x_axis, other_candy_df["Gross Profit"], color="red", alpha=0.5, align="edge")
plt.xticks(tick_locations, other_candy_df["State/Province"], rotation="vertical")
plt.xlim(-0.25, len(x_axis))
plt.ylim(0, max(other_candy_df["Gross Profit"])+50)
plt.title("Other Candy Gross Profit Per State")
plt.xlabel("State/Province")
plt.ylabel("Profit")
plt.tight_layout()
plt.savefig("../Images/other_candy_profit.png")
plt.show()


# Visualizations (2 per question = 12)


# Which Season Wins (Jose)


# Trends over time (Nicholas)


# Which type of candy dominates (Eric)


# Volume Vs. Cost (Aidan)


# Which Company is most successful (Yvette)
