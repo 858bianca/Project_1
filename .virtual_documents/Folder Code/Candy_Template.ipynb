import pandas as pd
import matplotlib.pyplot as plt
import scipy.stats as st
import numpy as np
from pathlib import Path


candy_data_csv =Path("../Resources/Candy_Sales.csv")
candy_df= pd.read_csv(candy_data_csv)
candy_df.head()



# Clean Data
# Reduced matrix for Jose Moncada
candy_df_jose = candy_df.loc[:, ["Order Date", "Product Name", "Sales", "Units", "Gross Profit", "Cost"]]
candy_df_jose.head()


# Visualizations (2 per question = 12)


# Which Season Wins (Jose)
#Monthly Sales from 2021 to 2024

# Convert "Order Date" to datetime format
candy_df_jose["Order Date"] = pd.to_datetime(candy_df_jose["Order Date"])

# Extract year and month
candy_df_jose["Year-Month"] = candy_df_jose["Order Date"].dt.to_period("M")

# Group by "Year-Month" and sum the sales for each month
monthly_sales = candy_df_jose.groupby("Year-Month")["Sales"].sum()

# Plot the monthly sales
plt.figure(figsize=(10, 6))
monthly_sales.plot(kind="line", marker="o")
plt.title("Monthly Sales")
plt.xlabel("Month")
plt.ylabel("Total Sales")
plt.xticks(rotation=90, fontsize=10)
plt.tight_layout()
plt.show()



# Extract the month and year from the "Order Date"
candy_df_jose["Month"] = candy_df_jose["Order Date"].dt.month
candy_df_jose["Year"] = candy_df_jose["Order Date"].dt.year

# Group by year and month to calculate total sales
monthly_sales = candy_df_jose.groupby(["Year", "Month"])["Sales"].sum().reset_index()

# Group by month to calculate the average of total sales for each month across years
average_monthly_sales = monthly_sales.groupby("Month")["Sales"].mean()

# Create a list of month names for better labeling
month_names = [
    "January", "February", "March", "April", "May", 
    "June", "July", "August", "September", "October", 
    "November", "December"
]

# Reindex the average monthly sales to match the month names
average_monthly_sales.index = month_names

# Plot the average monthly sales
plt.figure(figsize=(12, 6))
average_monthly_sales.plot(kind="bar", color="skyblue")

# Set title and labels
plt.title("Average Total Monthly Sales (2021 - 2024)")
plt.xlabel("Month")
plt.ylabel("Average Total Sales")
plt.xticks(rotation=45)
plt.tight_layout()
plt.show()



# Order Date Column used for Season Data
#Spring - March - April - May
#Summer - June - Juy - August
#Fall - September - October - November
#Winter - December - January - February

# Define the desired order of seasons
season_order = ["Spring", "Summer", "Fall", "Winter"]

# Reindex seasonal_sales to match the desired order
seasonal_sales = seasonal_sales.reindex(season_order)

# Plot the seasonal sales
plt.figure(figsize=(10, 6))
seasonal_sales.plot(kind="bar", color=["lightgreen", "orange", "brown", "lightblue"])

# Set title and labels
plt.title("Sales by Season")
plt.xlabel("Season")
plt.ylabel("Total Sales")
plt.xticks(rotation=0)
plt.tight_layout()
plt.show()



# Trends over time (Nicholas)


# Which type of candy dominates (Eric)


# Regional Findings (Bianca)



# Volume Vs. Cost (Aidan)


# Which Company is most successful (Yvette)

