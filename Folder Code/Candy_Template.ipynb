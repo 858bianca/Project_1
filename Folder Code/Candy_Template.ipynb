{
 "cells": [
  {
   "cell_type": "code",
   "execution_count": null,
   "id": "bfe079da-4591-4a90-9771-59e5b2a22c8e",
   "metadata": {},
   "outputs": [],
   "source": [
    "import pandas as pd\n",
    "import matplotlib.pyplot as plt\n",
    "import scipy.stats as st\n",
    "import numpy as np"
   ]
  },
  {
   "cell_type": "code",
   "execution_count": null,
   "id": "3edd268b-055c-4a23-899e-e7f16a2c0446",
   "metadata": {},
   "outputs": [],
   "source": [
    "candy_data_csv = Path(\"Resources/Candy_Sales.csv\")\n"
   ]
  },
  {
   "cell_type": "code",
   "execution_count": null,
   "id": "4227d4d7-df07-4832-8198-ff1c20d4234c",
   "metadata": {},
   "outputs": [],
   "source": [
    "# Clean Data"
   ]
  },
  {
   "cell_type": "code",
   "execution_count": null,
   "id": "c2df28d3-a933-4841-a72c-7543a90e5d74",
   "metadata": {},
   "outputs": [],
   "source": [
    "# Visualizations (2 per question = 12)"
   ]
  },
  {
   "cell_type": "code",
   "execution_count": null,
   "id": "822304bf-beac-4773-a684-187ce4da9de5",
   "metadata": {},
   "outputs": [],
   "source": [
    "# Which Season Wins (Jose)"
   ]
  },
  {
   "cell_type": "code",
   "execution_count": null,
   "id": "097374ff-1568-43eb-9a63-a723e120f50d",
   "metadata": {},
   "outputs": [],
   "source": [
    "# Trends over time (Nicholas)"
   ]
  },
  {
   "cell_type": "code",
   "execution_count": null,
   "id": "5d40d64d-1525-4073-91c4-3d13e475594b",
   "metadata": {},
   "outputs": [],
   "source": [
    "# Which type of candy dominates (Eric)"
   ]
  },
  {
   "cell_type": "code",
   "execution_count": null,
   "id": "0fe68bfe-b002-4455-9956-4f98920b3f99",
   "metadata": {},
   "outputs": [],
   "source": [
    "# Regional Findings (Bianca)\n"
   ]
  },
  {
   "cell_type": "code",
   "execution_count": null,
   "id": "c85ada93-40e1-4c82-805d-600ab91503e2",
   "metadata": {},
   "outputs": [],
   "source": [
    "# Volume Vs. Cost (Aidan)"
   ]
  },
  {
   "cell_type": "code",
   "execution_count": null,
   "id": "cb42e23a-390f-4877-ab17-bb1d12e5683f",
   "metadata": {},
   "outputs": [],
   "source": [
    "# Which Company is most successful (Yvette)"
   ]
  }
 ],
 "metadata": {
  "kernelspec": {
   "display_name": "Python 3 (ipykernel)",
   "language": "python",
   "name": "python3"
  },
  "language_info": {
   "codemirror_mode": {
    "name": "ipython",
    "version": 3
   },
   "file_extension": ".py",
   "mimetype": "text/x-python",
   "name": "python",
   "nbconvert_exporter": "python",
   "pygments_lexer": "ipython3",
   "version": "3.12.4"
  }
 },
 "nbformat": 4,
 "nbformat_minor": 5
}
